{
 "cells": [
  {
   "cell_type": "markdown",
   "id": "2e497395-a72d-41b3-94e6-4e736ec0f2b1",
   "metadata": {},
   "source": [
    "# _Encryptix Internship_: __Data Science__\n",
    "## __Task 1:__ Classify the Genre of the  movie based on it's Description \n",
    "### Technique: TF-IDF with Naive Bayes\n",
    "1. Import Libraries & Load the Dataset\n",
    "2. Preprocessing using Spacy\n",
    "3. Train Test Split\n",
    "4. Training the model using Naive Bayes approach\n",
    "5. Evaluating the model/ Generating Classification report"
   ]
  },
  {
   "cell_type": "markdown",
   "id": "47ed05a7-133e-44fe-83b2-9b6044625d2a",
   "metadata": {},
   "source": [
    "### __STEP 1__: _Load the Dataset_"
   ]
  },
  {
   "cell_type": "code",
   "execution_count": 1,
   "id": "e10d0cf7-88d1-4816-a29e-b9f517ab9455",
   "metadata": {},
   "outputs": [],
   "source": [
    "#importing libraries\n",
    "import pandas as pd\n",
    "from sklearn.metrics import classification_report\n",
    "from sklearn.model_selection import train_test_split\n"
   ]
  },
  {
   "cell_type": "code",
   "execution_count": 2,
   "id": "9564acec-1cda-4c4f-800b-4ee26c468814",
   "metadata": {
    "scrolled": true
   },
   "outputs": [
    {
     "data": {
      "text/html": [
       "<div>\n",
       "<style scoped>\n",
       "    .dataframe tbody tr th:only-of-type {\n",
       "        vertical-align: middle;\n",
       "    }\n",
       "\n",
       "    .dataframe tbody tr th {\n",
       "        vertical-align: top;\n",
       "    }\n",
       "\n",
       "    .dataframe thead th {\n",
       "        text-align: right;\n",
       "    }\n",
       "</style>\n",
       "<table border=\"1\" class=\"dataframe\">\n",
       "  <thead>\n",
       "    <tr style=\"text-align: right;\">\n",
       "      <th></th>\n",
       "      <th>Name</th>\n",
       "      <th>Genre</th>\n",
       "      <th>Description</th>\n",
       "      <th>Unnamed: 3</th>\n",
       "      <th>Unnamed: 4</th>\n",
       "      <th>Unnamed: 5</th>\n",
       "      <th>Unnamed: 6</th>\n",
       "      <th>Unnamed: 7</th>\n",
       "      <th>Unnamed: 8</th>\n",
       "      <th>Unnamed: 9</th>\n",
       "      <th>...</th>\n",
       "      <th>Unnamed: 29</th>\n",
       "      <th>Unnamed: 30</th>\n",
       "      <th>Unnamed: 31</th>\n",
       "      <th>Unnamed: 32</th>\n",
       "      <th>Unnamed: 33</th>\n",
       "      <th>Unnamed: 34</th>\n",
       "      <th>Unnamed: 35</th>\n",
       "      <th>Unnamed: 36</th>\n",
       "      <th>Unnamed: 37</th>\n",
       "      <th>Unnamed: 38</th>\n",
       "    </tr>\n",
       "  </thead>\n",
       "  <tbody>\n",
       "    <tr>\n",
       "      <th>0</th>\n",
       "      <td>Oscar et la dame rose (2009)</td>\n",
       "      <td>drama</td>\n",
       "      <td>Listening in to a conversation between his do...</td>\n",
       "      <td>NaN</td>\n",
       "      <td>NaN</td>\n",
       "      <td>NaN</td>\n",
       "      <td>NaN</td>\n",
       "      <td>NaN</td>\n",
       "      <td>NaN</td>\n",
       "      <td>NaN</td>\n",
       "      <td>...</td>\n",
       "      <td>NaN</td>\n",
       "      <td>NaN</td>\n",
       "      <td>NaN</td>\n",
       "      <td>NaN</td>\n",
       "      <td>NaN</td>\n",
       "      <td>NaN</td>\n",
       "      <td>NaN</td>\n",
       "      <td>NaN</td>\n",
       "      <td>NaN</td>\n",
       "      <td>NaN</td>\n",
       "    </tr>\n",
       "    <tr>\n",
       "      <th>1</th>\n",
       "      <td>Cupid (1997)</td>\n",
       "      <td>thriller</td>\n",
       "      <td>A brother and sister with a past incestuous r...</td>\n",
       "      <td>NaN</td>\n",
       "      <td>NaN</td>\n",
       "      <td>NaN</td>\n",
       "      <td>NaN</td>\n",
       "      <td>NaN</td>\n",
       "      <td>NaN</td>\n",
       "      <td>NaN</td>\n",
       "      <td>...</td>\n",
       "      <td>NaN</td>\n",
       "      <td>NaN</td>\n",
       "      <td>NaN</td>\n",
       "      <td>NaN</td>\n",
       "      <td>NaN</td>\n",
       "      <td>NaN</td>\n",
       "      <td>NaN</td>\n",
       "      <td>NaN</td>\n",
       "      <td>NaN</td>\n",
       "      <td>NaN</td>\n",
       "    </tr>\n",
       "    <tr>\n",
       "      <th>2</th>\n",
       "      <td>Young, Wild and Wonderful (1980)</td>\n",
       "      <td>adult</td>\n",
       "      <td>As the bus empties the students for their fie...</td>\n",
       "      <td>NaN</td>\n",
       "      <td>NaN</td>\n",
       "      <td>NaN</td>\n",
       "      <td>NaN</td>\n",
       "      <td>NaN</td>\n",
       "      <td>NaN</td>\n",
       "      <td>NaN</td>\n",
       "      <td>...</td>\n",
       "      <td>NaN</td>\n",
       "      <td>NaN</td>\n",
       "      <td>NaN</td>\n",
       "      <td>NaN</td>\n",
       "      <td>NaN</td>\n",
       "      <td>NaN</td>\n",
       "      <td>NaN</td>\n",
       "      <td>NaN</td>\n",
       "      <td>NaN</td>\n",
       "      <td>NaN</td>\n",
       "    </tr>\n",
       "    <tr>\n",
       "      <th>3</th>\n",
       "      <td>The Secret Sin (1915)</td>\n",
       "      <td>drama</td>\n",
       "      <td>To help their unemployed father make ends mee...</td>\n",
       "      <td>NaN</td>\n",
       "      <td>NaN</td>\n",
       "      <td>NaN</td>\n",
       "      <td>NaN</td>\n",
       "      <td>NaN</td>\n",
       "      <td>NaN</td>\n",
       "      <td>NaN</td>\n",
       "      <td>...</td>\n",
       "      <td>NaN</td>\n",
       "      <td>NaN</td>\n",
       "      <td>NaN</td>\n",
       "      <td>NaN</td>\n",
       "      <td>NaN</td>\n",
       "      <td>NaN</td>\n",
       "      <td>NaN</td>\n",
       "      <td>NaN</td>\n",
       "      <td>NaN</td>\n",
       "      <td>NaN</td>\n",
       "    </tr>\n",
       "    <tr>\n",
       "      <th>4</th>\n",
       "      <td>The Unrecovered (2007)</td>\n",
       "      <td>drama</td>\n",
       "      <td>The film's title refers not only to the un-re...</td>\n",
       "      <td>NaN</td>\n",
       "      <td>NaN</td>\n",
       "      <td>NaN</td>\n",
       "      <td>NaN</td>\n",
       "      <td>NaN</td>\n",
       "      <td>NaN</td>\n",
       "      <td>NaN</td>\n",
       "      <td>...</td>\n",
       "      <td>NaN</td>\n",
       "      <td>NaN</td>\n",
       "      <td>NaN</td>\n",
       "      <td>NaN</td>\n",
       "      <td>NaN</td>\n",
       "      <td>NaN</td>\n",
       "      <td>NaN</td>\n",
       "      <td>NaN</td>\n",
       "      <td>NaN</td>\n",
       "      <td>NaN</td>\n",
       "    </tr>\n",
       "  </tbody>\n",
       "</table>\n",
       "<p>5 rows × 39 columns</p>\n",
       "</div>"
      ],
      "text/plain": [
       "                                 Name       Genre  \\\n",
       "0       Oscar et la dame rose (2009)       drama    \n",
       "1                       Cupid (1997)    thriller    \n",
       "2   Young, Wild and Wonderful (1980)       adult    \n",
       "3              The Secret Sin (1915)       drama    \n",
       "4             The Unrecovered (2007)       drama    \n",
       "\n",
       "                                         Description Unnamed: 3 Unnamed: 4  \\\n",
       "0   Listening in to a conversation between his do...        NaN        NaN   \n",
       "1   A brother and sister with a past incestuous r...        NaN        NaN   \n",
       "2   As the bus empties the students for their fie...        NaN        NaN   \n",
       "3   To help their unemployed father make ends mee...        NaN        NaN   \n",
       "4   The film's title refers not only to the un-re...        NaN        NaN   \n",
       "\n",
       "  Unnamed: 5 Unnamed: 6 Unnamed: 7 Unnamed: 8 Unnamed: 9  ... Unnamed: 29  \\\n",
       "0        NaN        NaN        NaN        NaN        NaN  ...         NaN   \n",
       "1        NaN        NaN        NaN        NaN        NaN  ...         NaN   \n",
       "2        NaN        NaN        NaN        NaN        NaN  ...         NaN   \n",
       "3        NaN        NaN        NaN        NaN        NaN  ...         NaN   \n",
       "4        NaN        NaN        NaN        NaN        NaN  ...         NaN   \n",
       "\n",
       "  Unnamed: 30 Unnamed: 31 Unnamed: 32 Unnamed: 33 Unnamed: 34 Unnamed: 35  \\\n",
       "0         NaN         NaN         NaN         NaN         NaN         NaN   \n",
       "1         NaN         NaN         NaN         NaN         NaN         NaN   \n",
       "2         NaN         NaN         NaN         NaN         NaN         NaN   \n",
       "3         NaN         NaN         NaN         NaN         NaN         NaN   \n",
       "4         NaN         NaN         NaN         NaN         NaN         NaN   \n",
       "\n",
       "  Unnamed: 36 Unnamed: 37 Unnamed: 38  \n",
       "0         NaN         NaN         NaN  \n",
       "1         NaN         NaN         NaN  \n",
       "2         NaN         NaN         NaN  \n",
       "3         NaN         NaN         NaN  \n",
       "4         NaN         NaN         NaN  \n",
       "\n",
       "[5 rows x 39 columns]"
      ]
     },
     "execution_count": 2,
     "metadata": {},
     "output_type": "execute_result"
    }
   ],
   "source": [
    "df = pd.read_excel('Moviesdata.xlsx')\n",
    "df.head()"
   ]
  },
  {
   "cell_type": "code",
   "execution_count": null,
   "id": "0c078838-6e7c-46bb-873c-6276b00ae417",
   "metadata": {},
   "outputs": [],
   "source": [
    "df.info()"
   ]
  },
  {
   "cell_type": "code",
   "execution_count": 3,
   "id": "c0f3d7af-2a4f-44d5-b970-3bd07afc3d26",
   "metadata": {},
   "outputs": [],
   "source": [
    "df.drop(df.columns[3:39], axis=1, inplace=True)"
   ]
  },
  {
   "cell_type": "code",
   "execution_count": 4,
   "id": "3cc518f9-cb9f-45d0-bd27-86639a77da21",
   "metadata": {},
   "outputs": [
    {
     "name": "stdout",
     "output_type": "stream",
     "text": [
      "<class 'pandas.core.frame.DataFrame'>\n",
      "RangeIndex: 48079 entries, 0 to 48078\n",
      "Data columns (total 3 columns):\n",
      " #   Column       Non-Null Count  Dtype \n",
      "---  ------       --------------  ----- \n",
      " 0   Name         24029 non-null  object\n",
      " 1   Genre        21454 non-null  object\n",
      " 2   Description  21000 non-null  object\n",
      "dtypes: object(3)\n",
      "memory usage: 1.1+ MB\n"
     ]
    }
   ],
   "source": [
    "df.info()"
   ]
  },
  {
   "cell_type": "code",
   "execution_count": 5,
   "id": "0fd58cb1-576d-40df-beb8-a28bc9a4b77b",
   "metadata": {},
   "outputs": [
    {
     "name": "stdout",
     "output_type": "stream",
     "text": [
      "Name           24050\n",
      "Genre          26625\n",
      "Description    27079\n",
      "dtype: int64\n"
     ]
    }
   ],
   "source": [
    "# Check for missing values in each column\n",
    "missing_values = df.isnull().sum()\n",
    "print(missing_values)\n"
   ]
  },
  {
   "cell_type": "code",
   "execution_count": 6,
   "id": "b83ac5b8-5ddb-4df4-829f-d2dae65f9efb",
   "metadata": {},
   "outputs": [],
   "source": [
    "df = df.dropna()"
   ]
  },
  {
   "cell_type": "code",
   "execution_count": 7,
   "id": "56944540-0bfe-457a-bf5f-0ea03c4e0b3e",
   "metadata": {},
   "outputs": [
    {
     "name": "stdout",
     "output_type": "stream",
     "text": [
      "<class 'pandas.core.frame.DataFrame'>\n",
      "Int64Index: 20999 entries, 0 to 48078\n",
      "Data columns (total 3 columns):\n",
      " #   Column       Non-Null Count  Dtype \n",
      "---  ------       --------------  ----- \n",
      " 0   Name         20999 non-null  object\n",
      " 1   Genre        20999 non-null  object\n",
      " 2   Description  20999 non-null  object\n",
      "dtypes: object(3)\n",
      "memory usage: 656.2+ KB\n"
     ]
    }
   ],
   "source": [
    "df.info()"
   ]
  },
  {
   "cell_type": "code",
   "execution_count": 8,
   "id": "7a260a49-8a51-4a6a-aa2e-23d1491d5222",
   "metadata": {},
   "outputs": [],
   "source": [
    "genre_mapping = {\n",
    "    'action': 0,\n",
    "    'adult': 1,\n",
    "    'adventure': 2,\n",
    "    'animation': 3,\n",
    "    'biography': 4,\n",
    "    'comedy': 5,\n",
    "    'crime': 6,\n",
    "    'documentary': 7,\n",
    "    'drama': 8,\n",
    "    'family': 9,\n",
    "    'fantasy': 10,\n",
    "    'game-show': 11,\n",
    "    'history': 12,\n",
    "    'horror': 13,\n",
    "    'music': 14,\n",
    "    'musical': 15,\n",
    "    'mystery': 16,\n",
    "    'news': 17,\n",
    "    'reality-tv': 18,\n",
    "    'romance': 19,\n",
    "    'sci-fi': 20,\n",
    "    'short': 21,\n",
    "    'sport': 22,\n",
    "    'talk-show': 23,\n",
    "    'thriller': 24,\n",
    "    'war': 25,\n",
    "    'western': 26\n",
    "}\n",
    "\n",
    "# Ensure the Genre column is in the correct format (e.g., lowercase and stripped of spaces)\n",
    "df['Genre'] = df['Genre'].str.lower().str.strip()\n",
    "# Use .loc to modify the DataFrame\n",
    "df.loc[:, 'Genre_Number'] = df['Genre'].map(genre_mapping)"
   ]
  },
  {
   "cell_type": "code",
   "execution_count": 9,
   "id": "c4e91a2c-1990-47a3-bb39-097c685e9cc5",
   "metadata": {},
   "outputs": [
    {
     "data": {
      "text/html": [
       "<div>\n",
       "<style scoped>\n",
       "    .dataframe tbody tr th:only-of-type {\n",
       "        vertical-align: middle;\n",
       "    }\n",
       "\n",
       "    .dataframe tbody tr th {\n",
       "        vertical-align: top;\n",
       "    }\n",
       "\n",
       "    .dataframe thead th {\n",
       "        text-align: right;\n",
       "    }\n",
       "</style>\n",
       "<table border=\"1\" class=\"dataframe\">\n",
       "  <thead>\n",
       "    <tr style=\"text-align: right;\">\n",
       "      <th></th>\n",
       "      <th>Name</th>\n",
       "      <th>Genre</th>\n",
       "      <th>Description</th>\n",
       "      <th>Genre_Number</th>\n",
       "    </tr>\n",
       "  </thead>\n",
       "  <tbody>\n",
       "    <tr>\n",
       "      <th>0</th>\n",
       "      <td>Oscar et la dame rose (2009)</td>\n",
       "      <td>drama</td>\n",
       "      <td>Listening in to a conversation between his do...</td>\n",
       "      <td>8.0</td>\n",
       "    </tr>\n",
       "    <tr>\n",
       "      <th>1</th>\n",
       "      <td>Cupid (1997)</td>\n",
       "      <td>thriller</td>\n",
       "      <td>A brother and sister with a past incestuous r...</td>\n",
       "      <td>24.0</td>\n",
       "    </tr>\n",
       "    <tr>\n",
       "      <th>2</th>\n",
       "      <td>Young, Wild and Wonderful (1980)</td>\n",
       "      <td>adult</td>\n",
       "      <td>As the bus empties the students for their fie...</td>\n",
       "      <td>1.0</td>\n",
       "    </tr>\n",
       "    <tr>\n",
       "      <th>3</th>\n",
       "      <td>The Secret Sin (1915)</td>\n",
       "      <td>drama</td>\n",
       "      <td>To help their unemployed father make ends mee...</td>\n",
       "      <td>8.0</td>\n",
       "    </tr>\n",
       "    <tr>\n",
       "      <th>4</th>\n",
       "      <td>The Unrecovered (2007)</td>\n",
       "      <td>drama</td>\n",
       "      <td>The film's title refers not only to the un-re...</td>\n",
       "      <td>8.0</td>\n",
       "    </tr>\n",
       "  </tbody>\n",
       "</table>\n",
       "</div>"
      ],
      "text/plain": [
       "                                 Name     Genre  \\\n",
       "0       Oscar et la dame rose (2009)      drama   \n",
       "1                       Cupid (1997)   thriller   \n",
       "2   Young, Wild and Wonderful (1980)      adult   \n",
       "3              The Secret Sin (1915)      drama   \n",
       "4             The Unrecovered (2007)      drama   \n",
       "\n",
       "                                         Description  Genre_Number  \n",
       "0   Listening in to a conversation between his do...           8.0  \n",
       "1   A brother and sister with a past incestuous r...          24.0  \n",
       "2   As the bus empties the students for their fie...           1.0  \n",
       "3   To help their unemployed father make ends mee...           8.0  \n",
       "4   The film's title refers not only to the un-re...           8.0  "
      ]
     },
     "execution_count": 9,
     "metadata": {},
     "output_type": "execute_result"
    }
   ],
   "source": [
    "df.head()"
   ]
  },
  {
   "cell_type": "markdown",
   "id": "d6d90413-f829-4139-8fcf-81c2a5447c40",
   "metadata": {},
   "source": [
    "## __STEP 2__: _Preprocessing the Description column using Spacy_"
   ]
  },
  {
   "cell_type": "code",
   "execution_count": 13,
   "id": "8c20966d-8fff-4a5d-8c25-ebe2c8d44a00",
   "metadata": {},
   "outputs": [
    {
     "name": "stdout",
     "output_type": "stream",
     "text": [
      "<class 'pandas.core.series.Series'>\n"
     ]
    }
   ],
   "source": [
    "print(type(df['Genre']))"
   ]
  },
  {
   "cell_type": "code",
   "execution_count": 31,
   "id": "89d9538c-9da6-40c7-befa-5bd1f5745469",
   "metadata": {},
   "outputs": [],
   "source": [
    "import spacy\n",
    "nlp = spacy.load(\"en_core_web_sm\")\n",
    "\n",
    "def preprocess(text):\n",
    "    #remove stop words and lematize the text\n",
    "    doc = nlp(text)\n",
    "    filtered_tokens = []\n",
    "    for token in doc:\n",
    "        if token.is_stop or token.is_punct:\n",
    "            continue\n",
    "        filtered_tokens.append(token.lemma_)\n",
    "    return \" \".join(filtered_tokens)"
   ]
  },
  {
   "cell_type": "code",
   "execution_count": 33,
   "id": "2242cdd1-a317-4d19-8452-ba12866b85e2",
   "metadata": {},
   "outputs": [],
   "source": [
    "#df['Description'] = df['Description'].fillna(\"\").astype(str)\n",
    "df = df.drop(labels= \"PreProcessedDescription\", axis = 1)\n",
    "df[\"PreProcessedDescription\"] = df['Description'].apply(preprocess)"
   ]
  },
  {
   "cell_type": "code",
   "execution_count": 34,
   "id": "880aa2b7-8e5c-4b39-acca-06db7b34e5c9",
   "metadata": {},
   "outputs": [
    {
     "data": {
      "text/html": [
       "<div>\n",
       "<style scoped>\n",
       "    .dataframe tbody tr th:only-of-type {\n",
       "        vertical-align: middle;\n",
       "    }\n",
       "\n",
       "    .dataframe tbody tr th {\n",
       "        vertical-align: top;\n",
       "    }\n",
       "\n",
       "    .dataframe thead th {\n",
       "        text-align: right;\n",
       "    }\n",
       "</style>\n",
       "<table border=\"1\" class=\"dataframe\">\n",
       "  <thead>\n",
       "    <tr style=\"text-align: right;\">\n",
       "      <th></th>\n",
       "      <th>Name</th>\n",
       "      <th>Genre</th>\n",
       "      <th>Description</th>\n",
       "      <th>Genre_Number</th>\n",
       "      <th>PreProcessedDescription</th>\n",
       "    </tr>\n",
       "  </thead>\n",
       "  <tbody>\n",
       "    <tr>\n",
       "      <th>0</th>\n",
       "      <td>Oscar et la dame rose (2009)</td>\n",
       "      <td>drama</td>\n",
       "      <td>Listening in to a conversation between his do...</td>\n",
       "      <td>8.0</td>\n",
       "      <td>listen conversation doctor parent 10 year ol...</td>\n",
       "    </tr>\n",
       "    <tr>\n",
       "      <th>1</th>\n",
       "      <td>Cupid (1997)</td>\n",
       "      <td>thriller</td>\n",
       "      <td>A brother and sister with a past incestuous r...</td>\n",
       "      <td>24.0</td>\n",
       "      <td>brother sister past incestuous relationship ...</td>\n",
       "    </tr>\n",
       "    <tr>\n",
       "      <th>2</th>\n",
       "      <td>Young, Wild and Wonderful (1980)</td>\n",
       "      <td>adult</td>\n",
       "      <td>As the bus empties the students for their fie...</td>\n",
       "      <td>1.0</td>\n",
       "      <td>bus empty student field trip Museum Natural ...</td>\n",
       "    </tr>\n",
       "    <tr>\n",
       "      <th>3</th>\n",
       "      <td>The Secret Sin (1915)</td>\n",
       "      <td>drama</td>\n",
       "      <td>To help their unemployed father make ends mee...</td>\n",
       "      <td>8.0</td>\n",
       "      <td>help unemployed father end meet Edith twin s...</td>\n",
       "    </tr>\n",
       "    <tr>\n",
       "      <th>4</th>\n",
       "      <td>The Unrecovered (2007)</td>\n",
       "      <td>drama</td>\n",
       "      <td>The film's title refers not only to the un-re...</td>\n",
       "      <td>8.0</td>\n",
       "      <td>film title refer un recover body ground zero...</td>\n",
       "    </tr>\n",
       "  </tbody>\n",
       "</table>\n",
       "</div>"
      ],
      "text/plain": [
       "                                 Name     Genre  \\\n",
       "0       Oscar et la dame rose (2009)      drama   \n",
       "1                       Cupid (1997)   thriller   \n",
       "2   Young, Wild and Wonderful (1980)      adult   \n",
       "3              The Secret Sin (1915)      drama   \n",
       "4             The Unrecovered (2007)      drama   \n",
       "\n",
       "                                         Description  Genre_Number  \\\n",
       "0   Listening in to a conversation between his do...           8.0   \n",
       "1   A brother and sister with a past incestuous r...          24.0   \n",
       "2   As the bus empties the students for their fie...           1.0   \n",
       "3   To help their unemployed father make ends mee...           8.0   \n",
       "4   The film's title refers not only to the un-re...           8.0   \n",
       "\n",
       "                             PreProcessedDescription  \n",
       "0    listen conversation doctor parent 10 year ol...  \n",
       "1    brother sister past incestuous relationship ...  \n",
       "2    bus empty student field trip Museum Natural ...  \n",
       "3    help unemployed father end meet Edith twin s...  \n",
       "4    film title refer un recover body ground zero...  "
      ]
     },
     "execution_count": 34,
     "metadata": {},
     "output_type": "execute_result"
    }
   ],
   "source": [
    "df.head()"
   ]
  },
  {
   "cell_type": "code",
   "execution_count": null,
   "id": "11787431-8a5b-4ef6-bdc0-5298342db5c7",
   "metadata": {
    "scrolled": true
   },
   "outputs": [],
   "source": [
    "from sklearn.model_selection import train_test_split\n",
    "df['Genre_Number'] = df['Genre_Number'].fillna(-1)"
   ]
  },
  {
   "cell_type": "markdown",
   "id": "68a8bf03-80fb-408b-8f90-5e2888e50abe",
   "metadata": {},
   "source": [
    "## __STEP 3__: _Train Test Split_"
   ]
  },
  {
   "cell_type": "code",
   "execution_count": 35,
   "id": "d2862d63-55b3-4f84-93db-29f75030b9a4",
   "metadata": {},
   "outputs": [],
   "source": [
    "X_train, X_test, y_train, y_test = train_test_split(df['PreProcessedDescription'], df['Genre'],test_size=0.2,random_state=42,stratify= df['Genre_Number'])"
   ]
  },
  {
   "cell_type": "code",
   "execution_count": 24,
   "id": "07e672fe-d241-462a-9410-2b188e54d014",
   "metadata": {},
   "outputs": [
    {
     "data": {
      "text/plain": [
       "0"
      ]
     },
     "execution_count": 24,
     "metadata": {},
     "output_type": "execute_result"
    }
   ],
   "source": [
    "df['Genre_Number'].isna().sum()"
   ]
  },
  {
   "cell_type": "code",
   "execution_count": 23,
   "id": "a348b8a2-045c-4245-ab17-c3f5e7ad9e14",
   "metadata": {},
   "outputs": [],
   "source": [
    "df = df.dropna(subset=['Genre_Number'])"
   ]
  },
  {
   "cell_type": "code",
   "execution_count": 36,
   "id": "aed4a321-9e8f-49ea-ba17-9288788fb35d",
   "metadata": {},
   "outputs": [
    {
     "name": "stdout",
     "output_type": "stream",
     "text": [
      "Shape of Xtrain is: (16660,)\n"
     ]
    }
   ],
   "source": [
    "print('Shape of Xtrain is:',X_train.shape)"
   ]
  },
  {
   "cell_type": "code",
   "execution_count": 30,
   "id": "d1ad7fcf-33f4-4bb3-a094-e68671c8e9b1",
   "metadata": {},
   "outputs": [
    {
     "data": {
      "text/plain": [
       "drama          4531\n",
       "documentary    3447\n",
       "comedy         2430\n",
       "short          1613\n",
       "horror          699\n",
       "thriller        549\n",
       "action          389\n",
       "western         355\n",
       "reality-tv      284\n",
       "family          253\n",
       "adventure       238\n",
       "romance         224\n",
       "sci-fi          200\n",
       "adult           195\n",
       "music           167\n",
       "crime           150\n",
       "animation       141\n",
       "talk-show       124\n",
       "sport           114\n",
       "fantasy         106\n",
       "mystery          93\n",
       "musical          74\n",
       "biography        66\n",
       "game-show        64\n",
       "history          60\n",
       "news             51\n",
       "war              43\n",
       "Name: Genre, dtype: int64"
      ]
     },
     "execution_count": 30,
     "metadata": {},
     "output_type": "execute_result"
    }
   ],
   "source": [
    "y_train.value_counts()"
   ]
  },
  {
   "cell_type": "markdown",
   "id": "b8abcba3-4133-4921-a526-42f6c497558e",
   "metadata": {},
   "source": [
    "### __STEP 4__: Training the model using Naive Baye's Approach"
   ]
  },
  {
   "cell_type": "code",
   "execution_count": 41,
   "id": "9b1664cd-0bdc-4bc7-8d39-3681ccafa02f",
   "metadata": {},
   "outputs": [
    {
     "name": "stdout",
     "output_type": "stream",
     "text": [
      "              precision    recall  f1-score   support\n",
      "\n",
      "      action       0.00      0.00      0.00        97\n",
      "       adult       0.00      0.00      0.00        49\n",
      "   adventure       0.00      0.00      0.00        60\n",
      "   animation       0.00      0.00      0.00        35\n",
      "   biography       0.00      0.00      0.00        17\n",
      "      comedy       0.91      1.00      0.95       608\n",
      "       crime       0.00      0.00      0.00        37\n",
      " documentary       0.76      1.00      0.86       862\n",
      "       drama       0.58      1.00      0.73      1133\n",
      "      family       0.00      0.00      0.00        63\n",
      "     fantasy       0.00      0.00      0.00        26\n",
      "   game-show       0.00      0.00      0.00        16\n",
      "     history       0.00      0.00      0.00        15\n",
      "      horror       0.00      0.00      0.00       175\n",
      "       music       0.00      0.00      0.00        42\n",
      "     musical       0.00      0.00      0.00        19\n",
      "     mystery       0.00      0.00      0.00        23\n",
      "        news       0.00      0.00      0.00        12\n",
      "  reality-tv       0.00      0.00      0.00        71\n",
      "     romance       0.00      0.00      0.00        56\n",
      "      sci-fi       0.00      0.00      0.00        50\n",
      "       short       1.00      1.00      1.00       403\n",
      "       sport       0.00      0.00      0.00        29\n",
      "   talk-show       0.00      0.00      0.00        31\n",
      "    thriller       0.00      0.00      0.00       137\n",
      "         war       0.00      0.00      0.00        11\n",
      "     western       0.00      0.00      0.00        89\n",
      "\n",
      "    accuracy                           0.72      4166\n",
      "   macro avg       0.12      0.15      0.13      4166\n",
      "weighted avg       0.54      0.72      0.61      4166\n",
      "\n"
     ]
    },
    {
     "name": "stderr",
     "output_type": "stream",
     "text": [
      "C:\\Users\\hp\\anaconda3\\Lib\\site-packages\\sklearn\\metrics\\_classification.py:1469: UndefinedMetricWarning: Precision and F-score are ill-defined and being set to 0.0 in labels with no predicted samples. Use `zero_division` parameter to control this behavior.\n",
      "  _warn_prf(average, modifier, msg_start, len(result))\n",
      "C:\\Users\\hp\\anaconda3\\Lib\\site-packages\\sklearn\\metrics\\_classification.py:1469: UndefinedMetricWarning: Precision and F-score are ill-defined and being set to 0.0 in labels with no predicted samples. Use `zero_division` parameter to control this behavior.\n",
      "  _warn_prf(average, modifier, msg_start, len(result))\n",
      "C:\\Users\\hp\\anaconda3\\Lib\\site-packages\\sklearn\\metrics\\_classification.py:1469: UndefinedMetricWarning: Precision and F-score are ill-defined and being set to 0.0 in labels with no predicted samples. Use `zero_division` parameter to control this behavior.\n",
      "  _warn_prf(average, modifier, msg_start, len(result))\n"
     ]
    }
   ],
   "source": [
    "from sklearn.naive_bayes import MultinomialNB\n",
    "from sklearn.pipeline import Pipeline\n",
    "from sklearn.metrics import classification_report\n",
    "from sklearn.feature_extraction.text import TfidfVectorizer\n",
    "\n",
    "clf = Pipeline([\n",
    "    ('Vectorizer_tfidf', TfidfVectorizer()),\n",
    "    ('Multi NB', MultinomialNB())   \n",
    "])\n",
    "\n",
    "clf.fit(X_train,y_train)\n",
    "\n",
    "y_pred = clf.predict(y_test)\n",
    "\n",
    "print(classification_report(y_test, y_pred))\n"
   ]
  },
  {
   "cell_type": "markdown",
   "id": "9a7c439a-6f18-4ef3-b34e-3aa195387f2e",
   "metadata": {},
   "source": [
    "## __NOTE__: For most of the classes that have small Training data such as romance(224), crime(150), war(43) etc. have zero F1_score.\n",
    "## __WHY?__\n",
    "### Because the data is highly imbalance, Classes with high training data like Drama, Documentry, Shorts dominates and had high F1_score i.e 0.73, 0.86, 1.00 respectively\n"
   ]
  },
  {
   "cell_type": "code",
   "execution_count": 43,
   "id": "c811c6c2-5fb9-454b-b71d-d86a315c0b2d",
   "metadata": {},
   "outputs": [
    {
     "data": {
      "text/plain": [
       "drama          4531\n",
       "documentary    3447\n",
       "comedy         2430\n",
       "short          1613\n",
       "horror          699\n",
       "thriller        549\n",
       "action          389\n",
       "western         355\n",
       "reality-tv      284\n",
       "family          253\n",
       "adventure       238\n",
       "romance         224\n",
       "sci-fi          200\n",
       "adult           195\n",
       "music           167\n",
       "crime           150\n",
       "animation       141\n",
       "talk-show       124\n",
       "sport           114\n",
       "fantasy         106\n",
       "mystery          93\n",
       "musical          74\n",
       "biography        66\n",
       "game-show        64\n",
       "history          60\n",
       "news             51\n",
       "war              43\n",
       "Name: Genre, dtype: int64"
      ]
     },
     "execution_count": 43,
     "metadata": {},
     "output_type": "execute_result"
    }
   ],
   "source": [
    "y_train.value_counts()\n"
   ]
  },
  {
   "cell_type": "markdown",
   "id": "17806e85-90c6-445c-bb28-e4ddf9b3028d",
   "metadata": {},
   "source": [
    "### Due to imbalance Dataset, I have decided to remove all entries that have value_counts() less than 250.\n",
    "### Ideally the value_count() for all classes should be same. But this issue would be tackle using __'Handling imbalance class'__\n",
    "__1ST STEP:__ Remove all classes with value count less than 250"
   ]
  },
  {
   "cell_type": "code",
   "execution_count": 51,
   "id": "32c80a64-89d3-4e6a-a06e-182a6c3aafc4",
   "metadata": {},
   "outputs": [],
   "source": [
    "df_filtered = df[~(df['Genre'].isin(['adventure', 'romance', 'sci-fi', 'adult', 'music', 'crime', \n",
    "                                     'animation', 'talk-show', 'sport', 'fantasy', 'mystery', \n",
    "                                     'musical', 'biography', 'game-show', 'history', 'news', 'war']))]\n"
   ]
  },
  {
   "cell_type": "code",
   "execution_count": 52,
   "id": "d2599b86-ed53-4edd-bb21-dc8b77ac7ea8",
   "metadata": {},
   "outputs": [
    {
     "data": {
      "text/plain": [
       "drama          5664\n",
       "documentary    4309\n",
       "comedy         3038\n",
       "short          2016\n",
       "horror          874\n",
       "thriller        686\n",
       "action          486\n",
       "western         444\n",
       "reality-tv      355\n",
       "family          316\n",
       "Name: Genre, dtype: int64"
      ]
     },
     "execution_count": 52,
     "metadata": {},
     "output_type": "execute_result"
    }
   ],
   "source": [
    "df_filtered['Genre'].value_counts()"
   ]
  },
  {
   "cell_type": "markdown",
   "id": "26ad18ab-53dd-4ac3-99bc-afa69d675bd1",
   "metadata": {},
   "source": [
    "__2nd STEP:__ Training the model on filtered data."
   ]
  },
  {
   "cell_type": "code",
   "execution_count": 53,
   "id": "b0ba97d8-cdf4-4540-a030-501da52df90d",
   "metadata": {},
   "outputs": [],
   "source": [
    "X_train, X_test, y_train, y_test = train_test_split(df_filtered['PreProcessedDescription'], df_filtered['Genre'],test_size=0.2,random_state=42,stratify= df_filtered['Genre_Number'])"
   ]
  },
  {
   "cell_type": "code",
   "execution_count": 54,
   "id": "97198fbf-06c1-4dbd-8385-c32a9473edfa",
   "metadata": {},
   "outputs": [
    {
     "name": "stdout",
     "output_type": "stream",
     "text": [
      "              precision    recall  f1-score   support\n",
      "\n",
      "      action       0.00      0.00      0.00        97\n",
      "      comedy       1.00      1.00      1.00       608\n",
      " documentary       0.91      1.00      0.95       862\n",
      "       drama       0.54      1.00      0.71      1133\n",
      "      family       0.00      0.00      0.00        63\n",
      "      horror       0.00      0.00      0.00       175\n",
      "  reality-tv       0.00      0.00      0.00        71\n",
      "       short       0.00      0.00      0.00       403\n",
      "    thriller       0.00      0.00      0.00       137\n",
      "     western       0.00      0.00      0.00        89\n",
      "\n",
      "    accuracy                           0.72      3638\n",
      "   macro avg       0.25      0.30      0.27      3638\n",
      "weighted avg       0.55      0.72      0.61      3638\n",
      "\n"
     ]
    },
    {
     "name": "stderr",
     "output_type": "stream",
     "text": [
      "C:\\Users\\hp\\anaconda3\\Lib\\site-packages\\sklearn\\metrics\\_classification.py:1469: UndefinedMetricWarning: Precision and F-score are ill-defined and being set to 0.0 in labels with no predicted samples. Use `zero_division` parameter to control this behavior.\n",
      "  _warn_prf(average, modifier, msg_start, len(result))\n",
      "C:\\Users\\hp\\anaconda3\\Lib\\site-packages\\sklearn\\metrics\\_classification.py:1469: UndefinedMetricWarning: Precision and F-score are ill-defined and being set to 0.0 in labels with no predicted samples. Use `zero_division` parameter to control this behavior.\n",
      "  _warn_prf(average, modifier, msg_start, len(result))\n",
      "C:\\Users\\hp\\anaconda3\\Lib\\site-packages\\sklearn\\metrics\\_classification.py:1469: UndefinedMetricWarning: Precision and F-score are ill-defined and being set to 0.0 in labels with no predicted samples. Use `zero_division` parameter to control this behavior.\n",
      "  _warn_prf(average, modifier, msg_start, len(result))\n"
     ]
    }
   ],
   "source": [
    "clf = Pipeline([\n",
    "    ('Vectorizer_tfidf', TfidfVectorizer()),\n",
    "    ('Multi NB', MultinomialNB())   \n",
    "])\n",
    "\n",
    "clf.fit(X_train,y_train)\n",
    "\n",
    "y_pred = clf.predict(y_test)\n",
    "\n",
    "print(classification_report(y_test, y_pred))\n"
   ]
  },
  {
   "cell_type": "code",
   "execution_count": 55,
   "id": "161b1af2-b29e-4303-825f-b4eda23bac53",
   "metadata": {},
   "outputs": [],
   "source": [
    "## Still the same problem ):, i need to find a solution to handle imbalance dataset. Apart from this my model is pretty DOPE."
   ]
  },
  {
   "cell_type": "code",
   "execution_count": null,
   "id": "63203db0-fa81-4a02-9ad3-c714a0799a4a",
   "metadata": {},
   "outputs": [],
   "source": []
  }
 ],
 "metadata": {
  "kernelspec": {
   "display_name": "Python 3 (ipykernel)",
   "language": "python",
   "name": "python3"
  },
  "language_info": {
   "codemirror_mode": {
    "name": "ipython",
    "version": 3
   },
   "file_extension": ".py",
   "mimetype": "text/x-python",
   "name": "python",
   "nbconvert_exporter": "python",
   "pygments_lexer": "ipython3",
   "version": "3.11.4"
  }
 },
 "nbformat": 4,
 "nbformat_minor": 5
}
